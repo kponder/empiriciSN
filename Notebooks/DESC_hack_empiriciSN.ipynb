{
 "cells": [
  {
   "cell_type": "code",
   "execution_count": 1,
   "metadata": {
    "collapsed": false
   },
   "outputs": [
    {
     "name": "stderr",
     "output_type": "stream",
     "text": [
      "//anaconda/lib/python2.7/site-packages/sklearn/cross_validation.py:44: DeprecationWarning: This module was deprecated in version 0.18 in favor of the model_selection module into which all the refactored classes and functions are moved. Also note that the interface of the new CV iterators are different from that of this module. This module will be removed in 0.20.\n",
      "  \"This module will be removed in 0.20.\", DeprecationWarning)\n"
     ]
    }
   ],
   "source": [
    "%matplotlib inline\n",
    "import numpy as np\n",
    "from matplotlib import pyplot as plt\n",
    "import corner\n",
    "import urllib\n",
    "import os\n",
    "from sklearn.cross_validation import train_test_split\n",
    "from astroML.plotting import setup_text_plots\n",
    "\n",
    "import empiriciSN\n",
    "from demo_funcs import *"
   ]
  },
  {
   "cell_type": "code",
   "execution_count": 2,
   "metadata": {
    "collapsed": true
   },
   "outputs": [],
   "source": [
    "# Instantiate an empiriciSN worker object:\n",
    "empiricist = empiriciSN.Empiricist()\n",
    "\n",
    "# Define the range of component numbers and read in the dataset:\n",
    "component_range = np.array([1,2,3,4,5,6,7,8])\n",
    "flist = (['data_files/sdss_master.csv','data_files/snls_master.csv'])\n",
    "X, Xerr, R_params = get_demo_data(flist)"
   ]
  },
  {
   "cell_type": "code",
   "execution_count": 3,
   "metadata": {
    "collapsed": true
   },
   "outputs": [],
   "source": [
    "# Split the dataset 65/35:\n",
    "X_train, X_test, Xerr_train, Xerr_test, R_param_train, R_param_test = \\\n",
    "    train_test_split(X, Xerr, R_params, test_size=0.35, random_state=42)\n",
    "\n",
    "# Fit the model:\n",
    "#empiricist.fit_model(X_train, Xerr_train, filename = 'demo_model.fit', n_components=7)\n",
    "empiricist.read_model('demo_model.fit')"
   ]
  },
  {
   "cell_type": "code",
   "execution_count": 4,
   "metadata": {
    "collapsed": false
   },
   "outputs": [],
   "source": [
    "# Get actual separations from dataset, for comparison:\n",
    "logR_test = X_test[:,4]\n",
    "\n",
    "# Predict a radial separation for each host:\n",
    "np.random.seed(0)\n",
    "cond_indices = np.array([3,5,6,7,8,9,10,11,12,13,14])\n",
    "sample_logR = np.array([])\n",
    "\n",
    "for x in X_test:\n",
    "    r = empiricist.get_logR(cond_indices,4,x[cond_indices])\n",
    "    sample_logR = np.append(sample_logR,r)\n",
    "\n",
    "local_SB = []\n",
    "local_SB_err = []\n",
    "\n",
    "for i in range(len(R_param_test)):\n",
    "    SB, SB_err = empiricist.get_local_SB(R_param_test[i],sample_logR[i])\n",
    "    local_SB.append(SB)\n",
    "    local_SB_err.append(SB_err)\n",
    "\n",
    "local_SB = np.array(local_SB)\n",
    "local_SB_err = np.array(local_SB_err)"
   ]
  },
  {
   "cell_type": "code",
   "execution_count": 5,
   "metadata": {
    "collapsed": true
   },
   "outputs": [],
   "source": [
    "# Set up an array to contain the new supernova properties:\n",
    "n_Hosts = len(sample_logR)\n",
    "sample_SNe = np.zeros([n_Hosts,3])\n",
    "\n",
    "np.random.seed(10)\n",
    "\n",
    "# Loop over host galaxies, conditioning on each one's properties and drawing one supernova:\n",
    "for i in range(n_Hosts):\n",
    "    \n",
    "    x = np.append(X_test[i][3],sample_logR[i])\n",
    "    x = np.append(x,X_test[i][5:15])\n",
    "    x = np.append(x,local_SB[i])\n",
    "    x = np.append(np.array([np.nan,np.nan,np.nan]),x)\n",
    "    \n",
    "    xerr = np.append(np.array([0.0,0.0,0.0]),Xerr_test[i,3,3])\n",
    "    xerr = np.append(xerr,0.0)\n",
    "    for j in range(5,15):\n",
    "        xerr = np.append(xerr,Xerr_test[i,j,j])\n",
    "    xerr = np.append(xerr,local_SB_err[i])\n",
    "    \n",
    "    sample_SNe[i] = empiricist.get_SN(x, Xerr=xerr, n_SN=1)"
   ]
  },
  {
   "cell_type": "code",
   "execution_count": 6,
   "metadata": {
    "collapsed": false
   },
   "outputs": [
    {
     "data": {
      "text/plain": [
       "<matplotlib.lines.Line2D at 0x10b15f110>"
      ]
     },
     "execution_count": 6,
     "metadata": {},
     "output_type": "execute_result"
    },
    {
     "data": {
      "image/png": "[encoded data removed]",
      "text/plain": [
       "<matplotlib.figure.Figure at 0x10b15f090>"
      ]
     },
     "metadata": {},
     "output_type": "display_data"
    }
   ],
   "source": [
    "alpha = 0.11\n",
    "beta = 3.1\n",
    "\n",
    "from astropy.cosmology import WMAP9 as cosmo\n",
    "ld = cosmo.luminosity_distance(X_test[:,3]).value \n",
    "distmod = 5.*np.log10(ld * (1e6/10.))\n",
    "\n",
    "plt.plot(X_test[:,3],-2.5*np.log10(sample_SNe[:,0]) +alpha * sample_SNe[:,1]- beta*sample_SNe[:,2] - distmod, 'o')\n",
    "plt.xlabel('z')\n",
    "plt.ylabel(r'$\\mu - \\mu_{ld}$')\n",
    "plt.axhline(-29.7, color = 'k')\n",
    "#plt.savefig('empiriciSN_bias_check.pdf')\n"
   ]
  },
  {
   "cell_type": "code",
   "execution_count": 7,
   "metadata": {
    "collapsed": false
   },
   "outputs": [],
   "source": [
    "import sncosmo\n",
    "model = sncosmo.Model(source='salt2')\n",
    "magsys = sncosmo.get_magsystem('ab')\n",
    "\n",
    "#model.set(z=0.5, x0=1.e-6, x1=0.5, c=0.2)\n",
    "#params = {'z': 0.5, 'x0': 1.e-6, 'x1': 0.5, 'c': 0.2}\n",
    "#model.set(**params)\n",
    "#model.bandmag('bessellb', magsys, [0.])\n",
    "\n",
    "m_B_star = []\n",
    "for z,x0,x1,c in zip(X_test[:,3], sample_SNe[:,0], sample_SNe[:,1], sample_SNe[:,2]):\n",
    "    params = {'z': z, 'x0': x0, 'x1': x1, 'c': c}\n",
    "    model.set(**params)\n",
    "    try:\n",
    "        m_B_star.append(model.bandmag('bessellb', magsys, [0.]))\n",
    "    except:\n",
    "        m_B_star.append(0)"
   ]
  },
  {
   "cell_type": "code",
   "execution_count": 9,
   "metadata": {
    "collapsed": false
   },
   "outputs": [
    {
     "data": {
      "text/plain": [
       "(-25, -10)"
      ]
     },
     "execution_count": 9,
     "metadata": {},
     "output_type": "execute_result"
    },
    {
     "data": {
      "image/png": "[encoded data removed]",
      "text/plain": [
       "<matplotlib.figure.Figure at 0x10db4aed0>"
      ]
     },
     "metadata": {},
     "output_type": "display_data"
    }
   ],
   "source": [
    "# still not in restframe, needs K-correction for restframe\n",
    "plt.plot(X_test[:,3], m_B_star+alpha * sample_SNe[:,1]- beta*sample_SNe[:,2]-distmod, 'o')\n",
    "plt.xlabel('z')\n",
    "plt.ylabel(r'$\\mu - \\mu_{ld}$')\n",
    "plt.axhline(-19.3, color = 'k')\n",
    "plt.ylim(-25,-10)"
   ]
  },
  {
   "cell_type": "code",
   "execution_count": null,
   "metadata": {
    "collapsed": true
   },
   "outputs": [],
   "source": []
  }
 ],
 "metadata": {
  "kernelspec": {
   "display_name": "Python 2",
   "language": "python",
   "name": "python2"
  },
  "language_info": {
   "codemirror_mode": {
    "name": "ipython",
    "version": 2
   },
   "file_extension": ".py",
   "mimetype": "text/x-python",
   "name": "python",
   "nbconvert_exporter": "python",
   "pygments_lexer": "ipython2",
   "version": "2.7.12"
  }
 },
 "nbformat": 4,
 "nbformat_minor": 0
}
